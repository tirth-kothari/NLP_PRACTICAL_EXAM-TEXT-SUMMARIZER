{
  "nbformat": 4,
  "nbformat_minor": 0,
  "metadata": {
    "colab": {
      "name": "Text Summarization.ipynb",
      "provenance": [],
      "include_colab_link": true
    },
    "kernelspec": {
      "name": "python3",
      "display_name": "Python 3"
    }
  },
  "cells": [
    {
      "cell_type": "markdown",
      "metadata": {
        "id": "view-in-github",
        "colab_type": "text"
      },
      "source": [
        "<a href=\"https://colab.research.google.com/github/tirth-kothari/NLP_PRACTICAL_EXAM-TEXT-SUMMARIZER/blob/main/Text_Summarization.ipynb\" target=\"_parent\"><img src=\"https://colab.research.google.com/assets/colab-badge.svg\" alt=\"Open In Colab\"/></a>"
      ]
    },
    {
      "cell_type": "markdown",
      "metadata": {
        "id": "ahLcIKBb8fS7"
      },
      "source": [
        "**Importing necessary libraries and initializing WordNetLemmatizer**"
      ]
    },
    {
      "cell_type": "code",
      "metadata": {
        "id": "aOa3oONVqUHP",
        "colab": {
          "base_uri": "https://localhost:8080/"
        },
        "outputId": "945345f4-93f0-444d-9a81-7d7eded0b2fc"
      },
      "source": [
        "import nltk\r\n",
        "import os\r\n",
        "import re\r\n",
        "import math\r\n",
        "import operator\r\n",
        "from nltk.stem import WordNetLemmatizer\r\n",
        "from nltk.tokenize import sent_tokenize,word_tokenize\r\n",
        "from nltk.corpus import stopwords\r\n",
        "nltk.download('stopwords')\r\n",
        "nltk.download('punkt')\r\n",
        "nltk.download('wordnet')\r\n",
        "nltk.download('averaged_perceptron_tagger')\r\n",
        "Stopwords = set(stopwords.words('english'))\r\n",
        "wordlemmatizer = WordNetLemmatizer()"
      ],
      "execution_count": 17,
      "outputs": [
        {
          "output_type": "stream",
          "text": [
            "[nltk_data] Downloading package stopwords to /root/nltk_data...\n",
            "[nltk_data]   Package stopwords is already up-to-date!\n",
            "[nltk_data] Downloading package punkt to /root/nltk_data...\n",
            "[nltk_data]   Package punkt is already up-to-date!\n",
            "[nltk_data] Downloading package wordnet to /root/nltk_data...\n",
            "[nltk_data]   Package wordnet is already up-to-date!\n",
            "[nltk_data] Downloading package averaged_perceptron_tagger to\n",
            "[nltk_data]     /root/nltk_data...\n",
            "[nltk_data]   Package averaged_perceptron_tagger is already up-to-\n",
            "[nltk_data]       date!\n"
          ],
          "name": "stdout"
        }
      ]
    },
    {
      "cell_type": "markdown",
      "metadata": {
        "id": "6IJDFMBU8cu2"
      },
      "source": [
        "**Lemmatization and Stemming**"
      ]
    },
    {
      "cell_type": "code",
      "metadata": {
        "id": "VThs6HWV4YP4"
      },
      "source": [
        "def lemmatize_words(words):\r\n",
        "    lemmatized_words = []\r\n",
        "    for word in words:\r\n",
        "       lemmatized_words.append(wordlemmatizer.lemmatize(word))\r\n",
        "    return lemmatized_words"
      ],
      "execution_count": 18,
      "outputs": []
    },
    {
      "cell_type": "code",
      "metadata": {
        "id": "iFw3BqOO6zhu"
      },
      "source": [
        "def stem_words(words):\r\n",
        "    stemmed_words = []\r\n",
        "    for word in words:\r\n",
        "       stemmed_words.append(stemmer.stem(word))\r\n",
        "    return stemmed_words"
      ],
      "execution_count": 19,
      "outputs": []
    },
    {
      "cell_type": "markdown",
      "metadata": {
        "id": "2caKTn639FOq"
      },
      "source": [
        "**Removes special characters from the text**"
      ]
    },
    {
      "cell_type": "code",
      "metadata": {
        "id": "HUeJKToc68vc"
      },
      "source": [
        "def remove_special_characters(text):\r\n",
        "    regex = r'[^a-zA-Z0-9\\s]'\r\n",
        "    text = re.sub(regex,'',text)\r\n",
        "    return text"
      ],
      "execution_count": 20,
      "outputs": []
    },
    {
      "cell_type": "markdown",
      "metadata": {
        "id": "9Cn1qZjY9Stj"
      },
      "source": [
        "**Calculating the frequency of each word in the document**"
      ]
    },
    {
      "cell_type": "code",
      "metadata": {
        "id": "uwPDfONH6_dH"
      },
      "source": [
        "def freq(words):\r\n",
        "    words = [word.lower() for word in words]\r\n",
        "    dict_freq = {}\r\n",
        "    words_unique = []\r\n",
        "    for word in words:\r\n",
        "       if word not in words_unique:\r\n",
        "           words_unique.append(word)\r\n",
        "    for word in words_unique:\r\n",
        "       dict_freq[word] = words.count(word)\r\n",
        "    return dict_freq"
      ],
      "execution_count": 21,
      "outputs": []
    },
    {
      "cell_type": "markdown",
      "metadata": {
        "id": "cgQ2LUep9YZJ"
      },
      "source": [
        "**POS tagging function**"
      ]
    },
    {
      "cell_type": "code",
      "metadata": {
        "id": "ocPexlGe7Cuk"
      },
      "source": [
        "def pos_tagging(text):\r\n",
        "    pos_tag = nltk.pos_tag(text.split())\r\n",
        "    pos_tagged_noun_verb = []\r\n",
        "    for word,tag in pos_tag:\r\n",
        "        if tag == \"NN\" or tag == \"NNP\" or tag == \"NNS\" or tag == \"VB\" or tag == \"VBD\" or tag == \"VBG\" or tag == \"VBN\" or tag == \"VBP\" or tag == \"VBZ\":\r\n",
        "             pos_tagged_noun_verb.append(word)\r\n",
        "    return pos_tagged_noun_verb"
      ],
      "execution_count": 22,
      "outputs": []
    },
    {
      "cell_type": "markdown",
      "metadata": {
        "id": "tQPefLvT9vk8"
      },
      "source": [
        " **tf score function**"
      ]
    },
    {
      "cell_type": "code",
      "metadata": {
        "id": "ZrpqUPbW7F0c"
      },
      "source": [
        "def tf_score(word,sentence):\r\n",
        "    freq_sum = 0\r\n",
        "    word_frequency_in_sentence = 0\r\n",
        "    len_sentence = len(sentence)\r\n",
        "    for word_in_sentence in sentence.split():\r\n",
        "        if word == word_in_sentence:\r\n",
        "            word_frequency_in_sentence = word_frequency_in_sentence + 1\r\n",
        "    tf =  word_frequency_in_sentence/ len_sentence\r\n",
        "    return tf"
      ],
      "execution_count": 23,
      "outputs": []
    },
    {
      "cell_type": "markdown",
      "metadata": {
        "id": "SJrXOZr-9zjP"
      },
      "source": [
        "**idf score function**"
      ]
    },
    {
      "cell_type": "code",
      "metadata": {
        "id": "bi7loIAh7I5F"
      },
      "source": [
        "def idf_score(no_of_sentences,word,sentences):\r\n",
        "    no_of_sentence_containing_word = 0\r\n",
        "    for sentence in sentences:\r\n",
        "        sentence = remove_special_characters(str(sentence))\r\n",
        "        sentence = re.sub(r'\\d+', '', sentence)\r\n",
        "        sentence = sentence.split()\r\n",
        "        sentence = [word for word in sentence if word.lower() not in Stopwords and len(word)>1]\r\n",
        "        sentence = [word.lower() for word in sentence]\r\n",
        "        sentence = [wordlemmatizer.lemmatize(word) for word in sentence]\r\n",
        "        if word in sentence:\r\n",
        "            no_of_sentence_containing_word = no_of_sentence_containing_word + 1\r\n",
        "    idf = math.log10(no_of_sentences/no_of_sentence_containing_word)\r\n",
        "    return idf"
      ],
      "execution_count": 24,
      "outputs": []
    },
    {
      "cell_type": "markdown",
      "metadata": {
        "id": "XeDY7c-L93et"
      },
      "source": [
        "** tfidf score function**"
      ]
    },
    {
      "cell_type": "code",
      "metadata": {
        "id": "QL1ivTwr7LaV"
      },
      "source": [
        "def tf_idf_score(tf,idf):\r\n",
        "    return tf*idf"
      ],
      "execution_count": 25,
      "outputs": []
    },
    {
      "cell_type": "markdown",
      "metadata": {
        "id": "NweUDcyo9oqc"
      },
      "source": [
        "**Word tfidf function**"
      ]
    },
    {
      "cell_type": "code",
      "metadata": {
        "id": "6dgiS-L37OHe"
      },
      "source": [
        "def word_tfidf(dict_freq,word,sentences,sentence):\r\n",
        "    word_tfidf = []\r\n",
        "    tf = tf_score(word,sentence)\r\n",
        "    idf = idf_score(len(sentences),word,sentences)\r\n",
        "    tf_idf = tf_idf_score(tf,idf)\r\n",
        "    return tf_idf"
      ],
      "execution_count": 26,
      "outputs": []
    },
    {
      "cell_type": "markdown",
      "metadata": {
        "id": "YzxVU_WL-Bjg"
      },
      "source": [
        "**Calculating sentence score**"
      ]
    },
    {
      "cell_type": "code",
      "metadata": {
        "id": "Lt3034g-7Qrk"
      },
      "source": [
        "def sentence_importance(sentence,dict_freq,sentences):\r\n",
        "     sentence_score = 0\r\n",
        "     sentence = remove_special_characters(str(sentence)) \r\n",
        "     sentence = re.sub(r'\\d+', '', sentence)\r\n",
        "     pos_tagged_sentence = [] \r\n",
        "     no_of_sentences = len(sentences)\r\n",
        "     pos_tagged_sentence = pos_tagging(sentence)\r\n",
        "     for word in pos_tagged_sentence:\r\n",
        "          if word.lower() not in Stopwords and word not in Stopwords and len(word)>1: \r\n",
        "                word = word.lower()\r\n",
        "                word = wordlemmatizer.lemmatize(word)\r\n",
        "                sentence_score = sentence_score + word_tfidf(dict_freq,word,sentences,sentence)\r\n",
        "     return sentence_score"
      ],
      "execution_count": 27,
      "outputs": []
    },
    {
      "cell_type": "code",
      "metadata": {
        "colab": {
          "base_uri": "https://localhost:8080/"
        },
        "id": "O2yJGq69QMRG",
        "outputId": "31c6f065-3ae3-425e-b383-f1393f5641eb"
      },
      "source": [
        "from google.colab import drive\n",
        "drive.mount('/content/drive')"
      ],
      "execution_count": 16,
      "outputs": [
        {
          "output_type": "stream",
          "text": [
            "Mounted at /content/drive\n"
          ],
          "name": "stdout"
        }
      ]
    },
    {
      "cell_type": "markdown",
      "metadata": {
        "id": "c2GWFw76-ESE"
      },
      "source": [
        "**Text preprocessing**\r\n",
        "\r\n",
        "\r\n",
        "Text pre-processing is the most crucial step in getting consistent and good analytical result. The pre-processing steps applied in this algorithm include, removing special characters, digits and one letter word and stop words from the text ."
      ]
    },
    {
      "cell_type": "code",
      "metadata": {
        "colab": {
          "base_uri": "https://localhost:8080/"
        },
        "id": "yOxpTMfO7aLN",
        "outputId": "cc8d06b6-ab0d-49e7-c0ed-01fa3b22c05a"
      },
      "source": [
        "file = '/content/drive/MyDrive/Colab Notebooks/paragraph.txt'\r\n",
        "file = open(file , 'r')\r\n",
        "text = file.read()\r\n",
        "tokenized_sentence = sent_tokenize(text)\r\n",
        "text = remove_special_characters(str(text))\r\n",
        "text = re.sub(r'\\d+', '', text)\r\n",
        "tokenized_words_with_stopwords = word_tokenize(text)\r\n",
        "tokenized_words = [word for word in tokenized_words_with_stopwords if word not in Stopwords]\r\n",
        "tokenized_words = [word for word in tokenized_words if len(word) > 1]\r\n",
        "tokenized_words = [word.lower() for word in tokenized_words]\r\n",
        "tokenized_words = lemmatize_words(tokenized_words)\r\n",
        "word_freq = freq(tokenized_words)\r\n",
        "input_user = int(input('Percentage of information to retain(in percent):'))\r\n",
        "no_of_sentences = int((input_user * len(tokenized_sentence))/100)\r\n",
        "print(no_of_sentences)\r\n",
        "c = 1\r\n",
        "sentence_with_importance = {}"
      ],
      "execution_count": 28,
      "outputs": [
        {
          "output_type": "stream",
          "text": [
            "Percentage of information to retain(in percent):100\n",
            "11\n"
          ],
          "name": "stdout"
        }
      ]
    },
    {
      "cell_type": "markdown",
      "metadata": {
        "id": "hm9LDWkm-ZXT"
      },
      "source": [
        " **Finding most important sentences and printing the summary of the given text**"
      ]
    },
    {
      "cell_type": "code",
      "metadata": {
        "colab": {
          "base_uri": "https://localhost:8080/"
        },
        "id": "k3rHEqxD7_Qa",
        "outputId": "27d56d88-6fa4-4903-ac08-7bf457a2b4f2"
      },
      "source": [
        "for sent in tokenized_sentence:\r\n",
        "    sentenceimp = sentence_importance(sent,word_freq,tokenized_sentence)\r\n",
        "    sentence_with_importance[c] = sentenceimp\r\n",
        "    c = c+1\r\n",
        "sentence_with_importance = sorted(sentence_with_importance.items(), key=operator.itemgetter(1),reverse=True)\r\n",
        "cnt = 0\r\n",
        "summary = []\r\n",
        "sentence_no = []\r\n",
        "for word_prob in sentence_with_importance:\r\n",
        "    if cnt < no_of_sentences:\r\n",
        "        sentence_no.append(word_prob[0])\r\n",
        "        cnt = cnt+1\r\n",
        "    else:\r\n",
        "      break\r\n",
        "sentence_no.sort()\r\n",
        "cnt = 1\r\n",
        "for sentence in tokenized_sentence:\r\n",
        "    if cnt in sentence_no:\r\n",
        "       summary.append(sentence)\r\n",
        "    cnt = cnt+1\r\n",
        "summary = \" \".join(summary)\r\n",
        "print(\"\\n\")\r\n",
        "print(\"Summary:\")\r\n",
        "print(summary)\r\n",
        "outF = open('/content/drive/MyDrive/Colab Notebooks/summary.txt',\"w\")\r\n",
        "outF.write(summary)"
      ],
      "execution_count": 29,
      "outputs": [
        {
          "output_type": "stream",
          "text": [
            "\n",
            "\n",
            "Summary:\n",
            "In an attempt to build an AI-ready workforce, Microsoft announced Intelligent Cloud Hub which has been launched to empower the next generation of students with AI-ready skills. Envisioned as a three-year collaborative program, Intelligent Cloud Hub will support around 100 institutions with AI infrastructure, course content and curriculum, developer support, development tools and give students access to cloud and AI services. As part of the program, the Redmond giant which wants to expand its reach and is planning to build a strong developer ecosystem in India with the program will set up the core AI infrastructure and IoT Hub for the selected campuses. The company will provide AI development tools and Azure AI services such as Microsoft Cognitive Services, Bot Services and Azure Machine Learning.According to Manish Prakash, Country General Manager-PS, Health and Education, Microsoft India, said, \"With AI being the defining technology of our time, it is transforming lives and industry and the jobs of tomorrow will require a different skillset. This will require more collaborations and training and working with AI. That’s why it has become more critical than ever for educational institutions to integrate new cloud and AI technologies. The program is an attempt to ramp up the institutional set-up and build capabilities among the educators to educate the workforce of tomorrow.\" The program aims to build up the cognitive skills and in-depth understanding of developing intelligent cloud connected solutions for applications across industry. Earlier in April this year, the company announced Microsoft Professional Program In AI as a learning track open to the public. The program was developed to provide job ready skills to programmers who wanted to hone their skills in AI and data science with a series of online courses which featured hands-on labs and expert instructors as well. This program also included developer-focused AI school that provided a bunch of assets to help build AI skills.\n"
          ],
          "name": "stdout"
        },
        {
          "output_type": "execute_result",
          "data": {
            "text/plain": [
              "2015"
            ]
          },
          "metadata": {
            "tags": []
          },
          "execution_count": 29
        }
      ]
    }
  ]
}